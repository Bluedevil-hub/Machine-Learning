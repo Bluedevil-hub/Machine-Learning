{
  "cells": [
    {
      "cell_type": "markdown",
      "metadata": {
        "id": "Dnubs-Nnb3cw"
      },
      "source": [
        "# Assignment 6: Apply NB"
      ]
    },
    {
      "cell_type": "code",
      "source": [
        "from google.colab import drive\n",
        "drive.mount('/content/drive')"
      ],
      "metadata": {
        "colab": {
          "base_uri": "https://localhost:8080/"
        },
        "id": "YN8cxVfl0bjs",
        "outputId": "b9b1b34c-8ef5-4740-8331-f6da78ab2952"
      },
      "execution_count": 1,
      "outputs": [
        {
          "output_type": "stream",
          "name": "stdout",
          "text": [
            "Mounted at /content/drive\n"
          ]
        }
      ]
    },
    {
      "cell_type": "code",
      "source": [
        "%matplotlib inline\n",
        "import warnings\n",
        "warnings.filterwarnings(\"ignore\")\n",
        "\n",
        "import pandas as pd\n",
        "import numpy as np\n",
        "import nltk\n",
        "import matplotlib.pyplot as plt\n",
        "import seaborn as sns\n",
        "from sklearn.feature_extraction.text import TfidfVectorizer\n",
        "from sklearn.feature_extraction.text import CountVectorizer\n",
        "from sklearn.preprocessing import Normalizer\n",
        "from sklearn.model_selection import train_test_split\n",
        "from sklearn.metrics import confusion_matrix\n",
        "from sklearn import metrics\n",
        "from sklearn.metrics import roc_curve, auc\n",
        "from scipy.sparse import hstack\n",
        "from scipy import sparse\n",
        "\n",
        "import re\n",
        "# Tutorial about Python regular expressions: https://pymotw.com/2/re/\n",
        "\n",
        "import pickle\n",
        "from tqdm import tqdm\n",
        "import os\n",
        "\n",
        "from sklearn.naive_bayes import MultinomialNB\n",
        "from sklearn.model_selection import GridSearchCV\n",
        "from sklearn.metrics import confusion_matrix\n",
        "import math\n",
        "from prettytable import PrettyTable"
      ],
      "metadata": {
        "id": "iE9uUDu-zZ9y"
      },
      "execution_count": 2,
      "outputs": []
    },
    {
      "cell_type": "markdown",
      "metadata": {
        "id": "RW0zYHb5m_wI"
      },
      "source": [
        "<ol>\n",
        "    <li>Minimum data points need to be considered for people having 4GB RAM is <strong>50k</strong> and for 8GB RAM is <strong>100k</strong></li>\n",
        "    <li>When you are using ramdomsearchcv or gridsearchcv you need not split the data into X_train,X_cv,X_test. As the above methods use kfold. The model will learn better if train data is more so splitting to X_train,X_test will suffice.</li>\n",
        "    <li>If you are writing for loops to tune your model then you need split the data into X_train,X_cv,X_test.</li>\n",
        "    <li>While splitting the data explore stratify parameter. </li>\n",
        "    <li><strong>Apply Multinomial NB on these feature sets</strong></li>\n",
        "        <ul>\n",
        "            <li>Features that need to be considered</li> \n",
        "                <dl>\n",
        "                  <dt>essay</dt>\n",
        "                    <dd>while encoding essay, try to experiment with the max_features and n_grams parameter of vectorizers and see if it increases AUC score.</dd>\n",
        "                  <dt>categorical features</dt>\n",
        "                  <dd> - teacher_prefix</dd>\n",
        "                  <dd> - project_grade_category</dd>\n",
        "                  <dd> - school_state</dd>\n",
        "                  <dd> - clean_categories</dd>\n",
        "                  <dd> - clean_subcategories</dd>\n",
        "                  <dt>numerical features</dt>\n",
        "                  <dd> - price</dd>\n",
        "                  <dd> - teacher_number_of_previously_posted_projects</dd>\n",
        "                  <dd>while encoding the numerical features check <a href='https://imgur.com/ldZA1zg'>this</a> and <a href='https://ac-classroom-production.s3.amazonaws.com/public/COMMENT/Annotation_2020-05-21_225912_0lyZzN8.jpg'>this</a></dd>\n",
        "                </dl>    \n",
        "            <li><font color='red'>Set 1</font>: categorical, numerical features + preprocessed_eassay (BOW)</li>\n",
        "            <li><font color='red'>Set 2</font>: categorical, numerical features + preprocessed_eassay (TFIDF)</li>\n",
        "        </ul>\n",
        "    <li><strong>The hyper paramter tuning(find best alpha:smoothing parameter)</strong>\n",
        "        <ul>\n",
        "    <li>Consider alpha values in range: 10^-5 to 10^2 like [0.00001,0.0005, 0.0001,0.005,0.001,0.05,0.01,0.1,0.5,1,5,10,50,100]</li>\n",
        "    <li>Explore class_prior = [0.5, 0.5] parameter which can be present in MultinomialNB function(go through <a href='https://scikit-learn.org/stable/modules/generated/sklearn.naive_bayes.MultinomialNB.html'>this</a> ) then check how results might change.\n",
        "    <li>Find the best hyper parameter which will give the maximum <a href='https://www.appliedaicourse.com/course/applied-ai-course-online/lessons/receiver-operating-characteristic-curve-roc-curve-and-auc-1/'>AUC</a> value</li>\n",
        "    <li>For hyper parameter tuning using k-fold cross validation(use GridsearchCV or RandomsearchCV)/simple cross validation data (write for loop to iterate over hyper parameter values)</li>\n",
        "    <li>You need to plot the performance of model both on train data and cross validation data for each hyper parameter, like shown in the figure\n",
        "    <img src='https://i.imgur.com/hUv6aEy.jpg' width=300px><dd>-while plotting take log(alpha) on your X-axis so that it will be more readable</dd></li>\n",
        "    <li>Once after you found the best hyper parameter, you need to train your model with it, and find the AUC on test data and plot the ROC curve on both train and test.\n",
        "    <img src='https://imgur.com/q2P65L5.jpg' width=300px></li>\n",
        "    <li>Along with plotting ROC curve, you need to print the <a href='https://www.appliedaicourse.com/course/applied-ai-course-online/lessons/confusion-matrix-tpr-fpr-fnr-tnr-1/'>confusion matrix</a> with predicted and original labels of test data points\n",
        "        <img src='https://i.imgur.com/IdN5Ctv.png' width=300px><dd>-plot the confusion matrix in heatmaps, while plotting the confusion matrix go through the <a href='https://stackoverflow.com/questions/61748441/how-to-fix-the-values-displayed-in-a-confusion-matrix-in-exponential-form-to-nor'>link </a>\n",
        "</dd></li>\n",
        "        </ul>\n",
        "<li>find the top 20 features from either from feature <font color='red'>Set 1</font> or feature <font color='red'>Set 2</font> using values of `feature_log_prob_ ` parameter of `MultinomialNB` \n",
        "(https://scikit-learn.org/stable/modules/generated/sklearn.naive_bayes.MultinomialNB.html) and print <strong>BOTH</strong> positive as well as negative corresponding feature names. <dd> - go through the <a href='https://imgur.com/mWvE7gj'>link </a> </dd>\n",
        "    </li>\n",
        "    <li>You need to summarize the results at the end of the notebook, summarize it in the table format\n",
        "        <img src='http://i.imgur.com/YVpIGGE.jpg' width=400px>\n",
        "    </li>\n",
        "</ol>"
      ]
    },
    {
      "cell_type": "markdown",
      "metadata": {
        "id": "inzYCIaib3c3"
      },
      "source": [
        "<h1>2. Naive Bayes </h1>"
      ]
    },
    {
      "cell_type": "markdown",
      "metadata": {
        "id": "FYqCIxzFb3c5"
      },
      "source": [
        "## 1.1 Loading Data"
      ]
    },
    {
      "cell_type": "code",
      "execution_count": 3,
      "metadata": {
        "id": "dA1jknyqb3c_",
        "colab": {
          "base_uri": "https://localhost:8080/"
        },
        "outputId": "8a0172cf-7f6d-4dae-83e7-1b482dd136f2"
      },
      "outputs": [
        {
          "output_type": "stream",
          "name": "stdout",
          "text": [
            "(109248, 9)\n"
          ]
        }
      ],
      "source": [
        "#make sure you are loading atleast 50k datapoints\n",
        "#you can work with features of preprocessed_data.csv for the assignment.\n",
        "# If you want to add more features, you can add. (This is purely optional, not mandatory)\n",
        "\n",
        "import pandas\n",
        "data = pandas.read_csv('/content/drive/MyDrive/Dataset/preprocessed_data.csv')\n",
        "\n",
        "print(data.shape)\n",
        "\n",
        "#data.head(3)"
      ]
    },
    {
      "cell_type": "code",
      "source": [
        "data.head(2)"
      ],
      "metadata": {
        "colab": {
          "base_uri": "https://localhost:8080/",
          "height": 332
        },
        "id": "JTOorZKs4S7Y",
        "outputId": "8074b7b7-49b7-4464-fb31-db46c2c68bb6"
      },
      "execution_count": 4,
      "outputs": [
        {
          "output_type": "execute_result",
          "data": {
            "text/plain": [
              "  school_state teacher_prefix project_grade_category  \\\n",
              "0           ca            mrs          grades_prek_2   \n",
              "1           ut             ms             grades_3_5   \n",
              "\n",
              "   teacher_number_of_previously_posted_projects  project_is_approved  \\\n",
              "0                                            53                    1   \n",
              "1                                             4                    1   \n",
              "\n",
              "  clean_categories                 clean_subcategories  \\\n",
              "0     math_science  appliedsciences health_lifescience   \n",
              "1     specialneeds                        specialneeds   \n",
              "\n",
              "                                               essay   price  \n",
              "0  i fortunate enough use fairy tale stem kits cl...  725.05  \n",
              "1  imagine 8 9 years old you third grade classroo...  213.03  "
            ],
            "text/html": [
              "\n",
              "  <div id=\"df-15ab49b8-2d46-43a1-b0d0-1264203f04e6\">\n",
              "    <div class=\"colab-df-container\">\n",
              "      <div>\n",
              "<style scoped>\n",
              "    .dataframe tbody tr th:only-of-type {\n",
              "        vertical-align: middle;\n",
              "    }\n",
              "\n",
              "    .dataframe tbody tr th {\n",
              "        vertical-align: top;\n",
              "    }\n",
              "\n",
              "    .dataframe thead th {\n",
              "        text-align: right;\n",
              "    }\n",
              "</style>\n",
              "<table border=\"1\" class=\"dataframe\">\n",
              "  <thead>\n",
              "    <tr style=\"text-align: right;\">\n",
              "      <th></th>\n",
              "      <th>school_state</th>\n",
              "      <th>teacher_prefix</th>\n",
              "      <th>project_grade_category</th>\n",
              "      <th>teacher_number_of_previously_posted_projects</th>\n",
              "      <th>project_is_approved</th>\n",
              "      <th>clean_categories</th>\n",
              "      <th>clean_subcategories</th>\n",
              "      <th>essay</th>\n",
              "      <th>price</th>\n",
              "    </tr>\n",
              "  </thead>\n",
              "  <tbody>\n",
              "    <tr>\n",
              "      <th>0</th>\n",
              "      <td>ca</td>\n",
              "      <td>mrs</td>\n",
              "      <td>grades_prek_2</td>\n",
              "      <td>53</td>\n",
              "      <td>1</td>\n",
              "      <td>math_science</td>\n",
              "      <td>appliedsciences health_lifescience</td>\n",
              "      <td>i fortunate enough use fairy tale stem kits cl...</td>\n",
              "      <td>725.05</td>\n",
              "    </tr>\n",
              "    <tr>\n",
              "      <th>1</th>\n",
              "      <td>ut</td>\n",
              "      <td>ms</td>\n",
              "      <td>grades_3_5</td>\n",
              "      <td>4</td>\n",
              "      <td>1</td>\n",
              "      <td>specialneeds</td>\n",
              "      <td>specialneeds</td>\n",
              "      <td>imagine 8 9 years old you third grade classroo...</td>\n",
              "      <td>213.03</td>\n",
              "    </tr>\n",
              "  </tbody>\n",
              "</table>\n",
              "</div>\n",
              "      <button class=\"colab-df-convert\" onclick=\"convertToInteractive('df-15ab49b8-2d46-43a1-b0d0-1264203f04e6')\"\n",
              "              title=\"Convert this dataframe to an interactive table.\"\n",
              "              style=\"display:none;\">\n",
              "        \n",
              "  <svg xmlns=\"http://www.w3.org/2000/svg\" height=\"24px\"viewBox=\"0 0 24 24\"\n",
              "       width=\"24px\">\n",
              "    <path d=\"M0 0h24v24H0V0z\" fill=\"none\"/>\n",
              "    <path d=\"M18.56 5.44l.94 2.06.94-2.06 2.06-.94-2.06-.94-.94-2.06-.94 2.06-2.06.94zm-11 1L8.5 8.5l.94-2.06 2.06-.94-2.06-.94L8.5 2.5l-.94 2.06-2.06.94zm10 10l.94 2.06.94-2.06 2.06-.94-2.06-.94-.94-2.06-.94 2.06-2.06.94z\"/><path d=\"M17.41 7.96l-1.37-1.37c-.4-.4-.92-.59-1.43-.59-.52 0-1.04.2-1.43.59L10.3 9.45l-7.72 7.72c-.78.78-.78 2.05 0 2.83L4 21.41c.39.39.9.59 1.41.59.51 0 1.02-.2 1.41-.59l7.78-7.78 2.81-2.81c.8-.78.8-2.07 0-2.86zM5.41 20L4 18.59l7.72-7.72 1.47 1.35L5.41 20z\"/>\n",
              "  </svg>\n",
              "      </button>\n",
              "      \n",
              "  <style>\n",
              "    .colab-df-container {\n",
              "      display:flex;\n",
              "      flex-wrap:wrap;\n",
              "      gap: 12px;\n",
              "    }\n",
              "\n",
              "    .colab-df-convert {\n",
              "      background-color: #E8F0FE;\n",
              "      border: none;\n",
              "      border-radius: 50%;\n",
              "      cursor: pointer;\n",
              "      display: none;\n",
              "      fill: #1967D2;\n",
              "      height: 32px;\n",
              "      padding: 0 0 0 0;\n",
              "      width: 32px;\n",
              "    }\n",
              "\n",
              "    .colab-df-convert:hover {\n",
              "      background-color: #E2EBFA;\n",
              "      box-shadow: 0px 1px 2px rgba(60, 64, 67, 0.3), 0px 1px 3px 1px rgba(60, 64, 67, 0.15);\n",
              "      fill: #174EA6;\n",
              "    }\n",
              "\n",
              "    [theme=dark] .colab-df-convert {\n",
              "      background-color: #3B4455;\n",
              "      fill: #D2E3FC;\n",
              "    }\n",
              "\n",
              "    [theme=dark] .colab-df-convert:hover {\n",
              "      background-color: #434B5C;\n",
              "      box-shadow: 0px 1px 3px 1px rgba(0, 0, 0, 0.15);\n",
              "      filter: drop-shadow(0px 1px 2px rgba(0, 0, 0, 0.3));\n",
              "      fill: #FFFFFF;\n",
              "    }\n",
              "  </style>\n",
              "\n",
              "      <script>\n",
              "        const buttonEl =\n",
              "          document.querySelector('#df-15ab49b8-2d46-43a1-b0d0-1264203f04e6 button.colab-df-convert');\n",
              "        buttonEl.style.display =\n",
              "          google.colab.kernel.accessAllowed ? 'block' : 'none';\n",
              "\n",
              "        async function convertToInteractive(key) {\n",
              "          const element = document.querySelector('#df-15ab49b8-2d46-43a1-b0d0-1264203f04e6');\n",
              "          const dataTable =\n",
              "            await google.colab.kernel.invokeFunction('convertToInteractive',\n",
              "                                                     [key], {});\n",
              "          if (!dataTable) return;\n",
              "\n",
              "          const docLinkHtml = 'Like what you see? Visit the ' +\n",
              "            '<a target=\"_blank\" href=https://colab.research.google.com/notebooks/data_table.ipynb>data table notebook</a>'\n",
              "            + ' to learn more about interactive tables.';\n",
              "          element.innerHTML = '';\n",
              "          dataTable['output_type'] = 'display_data';\n",
              "          await google.colab.output.renderOutput(dataTable, element);\n",
              "          const docLink = document.createElement('div');\n",
              "          docLink.innerHTML = docLinkHtml;\n",
              "          element.appendChild(docLink);\n",
              "        }\n",
              "      </script>\n",
              "    </div>\n",
              "  </div>\n",
              "  "
            ]
          },
          "metadata": {},
          "execution_count": 4
        }
      ]
    },
    {
      "cell_type": "markdown",
      "metadata": {
        "id": "WtVV13Fyb3dH"
      },
      "source": [
        "##<h2>1.2 Splitting data into Train and cross validation(or test): Stratified Sampling</h2>"
      ]
    },
    {
      "cell_type": "code",
      "source": [
        "data.columns"
      ],
      "metadata": {
        "colab": {
          "base_uri": "https://localhost:8080/"
        },
        "id": "hjwxk0XAyb7F",
        "outputId": "9e1b3095-8ab7-4955-eefc-16945d07d8f3"
      },
      "execution_count": 5,
      "outputs": [
        {
          "output_type": "execute_result",
          "data": {
            "text/plain": [
              "Index(['school_state', 'teacher_prefix', 'project_grade_category',\n",
              "       'teacher_number_of_previously_posted_projects', 'project_is_approved',\n",
              "       'clean_categories', 'clean_subcategories', 'essay', 'price'],\n",
              "      dtype='object')"
            ]
          },
          "metadata": {},
          "execution_count": 5
        }
      ]
    },
    {
      "cell_type": "markdown",
      "source": [
        "Numerical Features:\n",
        "\n",
        "- Price\n",
        "- teacher_number_of_previously_projects\n",
        "\n",
        "Categorical Features\n",
        "- school_state\n",
        "- teacher_prefix\n",
        "- project_grade_category\n",
        "- clean_categories\n",
        "- clean_sub_categories\n",
        "\n",
        "Text Features\n",
        " - essay\n",
        "\n",
        "\n"
      ],
      "metadata": {
        "id": "A5KoYi_r7AL_"
      }
    },
    {
      "cell_type": "code",
      "source": [
        "# 1. Split your data.\n",
        "\n",
        "y = data['project_is_approved'].values\n",
        "X = data.drop(['project_is_approved'],axis = 1)\n",
        "\n",
        "print(X.shape, y.shape, 'This is X and y ')\n",
        "\n",
        "X_train,X_test,y_train,y_test = train_test_split(X,y,stratify = y,test_size = 0.3 ,random_state = 10)\n",
        "\n",
        "print(X_train.shape,X_test.shape, 'This is X train and test')\n",
        "print(y_train.shape,y_test.shape,'This is  y train and test')"
      ],
      "metadata": {
        "colab": {
          "base_uri": "https://localhost:8080/"
        },
        "id": "A_YgJLSTyX17",
        "outputId": "259a12f6-b0f1-4a29-8758-10a6c6b31527"
      },
      "execution_count": 6,
      "outputs": [
        {
          "output_type": "stream",
          "name": "stdout",
          "text": [
            "(109248, 8) (109248,) This is X and y \n",
            "(76473, 8) (32775, 8) This is X train and test\n",
            "(76473,) (32775,) This is  y train and test\n"
          ]
        }
      ]
    },
    {
      "cell_type": "markdown",
      "source": [
        "## 1.3 Encoding Text Features"
      ],
      "metadata": {
        "id": "RFluuxHuC-CV"
      }
    },
    {
      "cell_type": "code",
      "execution_count": 7,
      "metadata": {
        "id": "q7qOjUjRvOjF"
      },
      "outputs": [],
      "source": [
        "# write your code in following steps for task 1\n",
        "# 1. Split your data.\n",
        "# 2. Perform Bag of Words Vectorization of text data.\n",
        "# 3. Perform tfidf vectorization of text data.\n",
        "# 4. perform one-hot encoding of categorical features.\n",
        "# 5. perform normalization of numerical features\n",
        "# 6. For set 1 stack up all the features using hstack()\n",
        "# 7. For set 2 stack up all the features using hstack()\n",
        "# 8. Perform hyperparameter tuning and represent the training and cross-validation AUC scores for different 'alpha' values, using a 2D line plot.\n",
        "# 9. Find the best hyperparameter 'alpha' and fit the model. Plot ROC-AUC curve(by obtaining the probabilities using 'predict proba' method)\n",
        "# 10. Plot confusion matrix based on the best threshold value\n",
        "# 11. Either for the model in set 1 or in set 2, print the top 20 features(you have to print the names, not the indexes) associated with the positive and negative classes each.\n",
        "# 12. Summarize your observations and compare both the models(ie., from set 1 and set 2) in terms of optimal hyperparameter value, train AUC and test AUC scores. \n",
        "# 13. You can use Prettytable or any other tabular format for comparison.\n",
        "\n",
        "\n",
        "# please write all the code with proper documentation, and proper titles for each subsection\n",
        "# go through documentations and blogs before you start coding\n",
        "# first figure out what to do, and then think about how to do.\n",
        "# reading and understanding error messages will be very much helpfull in debugging your code\n",
        "# when you plot any graph make sure you use \n",
        "    # a. Title, that describes your plot, this will be very helpful to the reader\n",
        "    # b. Legends if needed\n",
        "    # c. X-axis label\n",
        "    # d. Y-axis label\n",
        "    "
      ]
    },
    {
      "cell_type": "code",
      "execution_count": 8,
      "metadata": {
        "id": "i-PyprDNb3dI"
      },
      "outputs": [],
      "source": [
        "# Split the dataset \n",
        "# 1) If you want to apply simple cross-validation, split the dataset into 3 parts (ie., train, CV and test sets)\n",
        "# 2) If you want to apply K-fold CV (or) GridSearch Cross Validation (or) Randomized Search Cross Validation, just split the dataset into 2 parts (ie., train and test sets)\n",
        "\n"
      ]
    },
    {
      "cell_type": "code",
      "execution_count": 9,
      "metadata": {
        "id": "JwBuDr1vvOjJ",
        "colab": {
          "base_uri": "https://localhost:8080/"
        },
        "outputId": "f1bc4ff4-ff2b-49b5-bc34-6b58649355ae"
      },
      "outputs": [
        {
          "output_type": "stream",
          "name": "stdout",
          "text": [
            "Shape after Transform\n",
            "(76473, 5000)\n",
            "(32775, 5000)\n"
          ]
        }
      ],
      "source": [
        "# Apply Bag of Words (BOW) vectorization on 'Preprocessed_Essay' \n",
        "# Apply Bag of Words (BOW) vectorization on 'Preprocessed_Title' (Optional)\n",
        "\n",
        "\n",
        "vect1 = CountVectorizer(min_df=10,ngram_range=(1,4), max_features = 5000)\n",
        "vect1.fit(X_train['essay'])\n",
        "X_train_preprocessed_essay_bow = vect1.transform(X_train['essay'])\n",
        "\n",
        "X_test_preprocessed_essay_bow = vect1.transform(X_test['essay'])\n",
        "\n",
        "print(\"Shape after Transform\")\n",
        "print(X_train_preprocessed_essay_bow.shape)\n",
        "print(X_test_preprocessed_essay_bow.shape)"
      ]
    },
    {
      "cell_type": "code",
      "execution_count": 10,
      "metadata": {
        "id": "BfcmdlUFvOjK",
        "colab": {
          "base_uri": "https://localhost:8080/"
        },
        "outputId": "c0f7c89f-cdcf-4872-e9e5-eeba12a7bde8"
      },
      "outputs": [
        {
          "output_type": "stream",
          "name": "stdout",
          "text": [
            "Shape after Transform\n",
            "(76473, 5000)\n",
            "(32775, 5000)\n"
          ]
        }
      ],
      "source": [
        "# Apply TF-IDF vectorization on 'Preprocessed_Essay' \n",
        "# Apply TF-IDF vectorization on 'Preprocessed_Title' (Optional)\n",
        "\n",
        "\n",
        "vect2 = TfidfVectorizer(min_df=10,ngram_range=(1,4), max_features = 5000)\n",
        "vect2.fit(X_train['essay'])\n",
        "X_train_preprocessed_essay_tfidf = vect2.transform(X_train['essay'])\n",
        "\n",
        "X_test_preprocessed_essay_tfidf = vect2.transform(X_test['essay'])\n",
        "\n",
        "print(\"Shape after Transform\")\n",
        "print(X_train_preprocessed_essay_tfidf.shape)\n",
        "print(X_test_preprocessed_essay_tfidf.shape)\n",
        "\n"
      ]
    },
    {
      "cell_type": "markdown",
      "metadata": {
        "id": "bGy86kgHb3dX"
      },
      "source": [
        "##<h2>1.4 Make Data Model Ready: encoding categorical features</h2>"
      ]
    },
    {
      "cell_type": "code",
      "execution_count": 11,
      "metadata": {
        "id": "EfXkofX1b3da",
        "colab": {
          "base_uri": "https://localhost:8080/"
        },
        "outputId": "b4516ee3-2f62-41be-ba62-c37b8ab23dc3"
      },
      "outputs": [
        {
          "output_type": "stream",
          "name": "stdout",
          "text": [
            "School State\n",
            "X_train shape: (76473, 51)\n",
            "X_test_shape: (32775, 51)\n",
            "\n",
            "\n",
            "Teacher Prefix\n",
            "X_train shape: (76473, 5)\n",
            "X_test_shape: (32775, 5)\n",
            "\n",
            "\n",
            "Project_grade_category\n",
            "X_train shape: (76473, 4)\n",
            "X_test_shape: (32775, 4)\n",
            "\n",
            "\n",
            "Clean_category\n",
            "X_train shape: (76473, 9)\n",
            "X_test_shape: (32775, 9)\n",
            "\n",
            "\n",
            "Clean_subcategory\n",
            "X_train shape: (76473, 30)\n",
            "X_test_shape: (32775, 30)\n",
            "\n",
            "\n",
            "Th final categorical variables\n",
            "X_train_cat shape: (76473, 99)\n",
            "X_test_cat shape: (32775, 99)\n"
          ]
        }
      ],
      "source": [
        "# Apply One-Hot Encoding on the categorical features either using OneHotEncoder() (or) CountVectorizer(binary=True)\n",
        "# Apply Normalization on the numerical features using Normalizer().\n",
        "\n",
        "# School_state\n",
        "print('School State')\n",
        "\n",
        "vect = CountVectorizer()\n",
        "vect_ss = vect.fit(X_train['school_state'].values)\n",
        "X_train_school_state = vect.fit_transform(X_train['school_state'].values)\n",
        "X_test_school_state = vect.transform(X_test['school_state'].values)\n",
        "\n",
        "print('X_train shape:' ,X_train_school_state.shape)\n",
        "print('X_test_shape:', X_test_school_state.shape)\n",
        "\n",
        "print('\\n')\n",
        "\n",
        "# Teacher_prefix\n",
        "print('Teacher Prefix')\n",
        "\n",
        "vect = CountVectorizer()\n",
        "vect_tp = vect.fit(X_train['teacher_prefix'].values)\n",
        "X_train_teacher_prefix = vect.fit_transform(X_train['teacher_prefix'].values)\n",
        "X_test_teacher_prefix = vect.transform(X_test['teacher_prefix'].values)\n",
        "\n",
        "print('X_train shape:' ,X_train_teacher_prefix.shape)\n",
        "print('X_test_shape:', X_test_teacher_prefix.shape)\n",
        "\n",
        "print('\\n')\n",
        "\n",
        "\n",
        "print('Project_grade_category')\n",
        "\n",
        "vect = CountVectorizer()\n",
        "\n",
        "vect_pgc = vect.fit(X_train['project_grade_category'].values)\n",
        "X_train_pgc = vect.fit_transform(X_train['project_grade_category'].values)\n",
        "X_test_pgc = vect.transform(X_test['project_grade_category'].values)\n",
        "\n",
        "print('X_train shape:' ,X_train_pgc.shape)\n",
        "print('X_test_shape:', X_test_pgc.shape)\n",
        "\n",
        "print('\\n')\n",
        "\n",
        "print('Clean_category')\n",
        "\n",
        "vect = CountVectorizer()\n",
        "\n",
        "vect_cc = vect.fit(X_train['clean_categories'].values)\n",
        "X_train_cc = vect.fit_transform(X_train['clean_categories'].values)\n",
        "X_test_cc = vect.transform(X_test['clean_categories'].values)\n",
        "\n",
        "print('X_train shape:' ,X_train_cc.shape)\n",
        "print('X_test_shape:', X_test_cc.shape)\n",
        "\n",
        "print('\\n')\n",
        "\n",
        "print('Clean_subcategory')\n",
        "\n",
        "vect = CountVectorizer()\n",
        "\n",
        "vect_cs = vect.fit(X_train['clean_subcategories'].values)\n",
        "X_train_cs = vect.fit_transform(X_train['clean_subcategories'].values)\n",
        "X_test_cs = vect.transform(X_test['clean_subcategories'].values)\n",
        "\n",
        "print('X_train shape:' ,X_train_cs.shape)\n",
        "print('X_test_shape:', X_test_cs.shape)\n",
        "\n",
        "X_train_cat = hstack((X_train_school_state,X_train_teacher_prefix,X_train_pgc,X_train_cc,X_train_cs)).tocsr()\n",
        "X_test_cat = hstack((X_test_school_state,X_test_teacher_prefix,X_test_pgc,X_test_cc,X_test_cs)).tocsr()\n",
        "\n",
        "print('\\n')\n",
        "print('Th final categorical variables')\n",
        "print('X_train_cat shape:' ,X_train_cat.shape)\n",
        "print('X_test_cat shape:', X_test_cat.shape)"
      ]
    },
    {
      "cell_type": "markdown",
      "source": [
        "## 1.5 Encoding Numerical Features "
      ],
      "metadata": {
        "id": "FHDLe0FIDqzU"
      }
    },
    {
      "cell_type": "code",
      "source": [
        "#Normlaizer \n",
        "# By default works on row not on column like standardscaler\n",
        "#So transfrom the to row form then transform using 1 -1 which is 1 row and numb of cols\n",
        "\n",
        "#Numerical Feature\n",
        "\n",
        "print('For Price Feature')\n",
        "\n",
        "norm = Normalizer()\n",
        "norm.fit(X_train['price'].values.reshape(-1,1)) #Converts to \n",
        "X_train_price_norm = norm.transform(X_train['price'].values.reshape(-1,1))\n",
        "X_test_price_norm = norm.transform(X_test['price'].values.reshape(-1,1))\n",
        "\n",
        "\n",
        "print('X_train_price shape_norm',X_train_price_norm.shape)\n",
        "print('X_test_price shape_norm',X_test_price_norm.shape)\n",
        "print('\\n')\n",
        "\n",
        "print('For Teacher number of previously posted projects')\n",
        "\n",
        "norm = Normalizer()\n",
        "X_test_pp = norm.fit(X_train['teacher_number_of_previously_posted_projects'].values.reshape(-1,1))\n",
        "X_train_pp = norm.transform(X_train['teacher_number_of_previously_posted_projects'].values.reshape(-1,1))\n",
        "X_test_pp = norm.transform(X_test['teacher_number_of_previously_posted_projects'].values.reshape(-1,1))\n",
        "\n",
        "print('X_train_pp',X_train_pp.shape)\n",
        "print('X_test_pp',X_test_pp.shape)\n",
        "\n",
        "\n"
      ],
      "metadata": {
        "colab": {
          "base_uri": "https://localhost:8080/"
        },
        "id": "WLMO51QFOX9D",
        "outputId": "6ad4de6b-8f08-45a2-f84e-f364cac2d155"
      },
      "execution_count": 12,
      "outputs": [
        {
          "output_type": "stream",
          "name": "stdout",
          "text": [
            "For Price Feature\n",
            "X_train_price shape_norm (76473, 1)\n",
            "X_test_price shape_norm (32775, 1)\n",
            "\n",
            "\n",
            "For Teacher number of previously posted projects\n",
            "X_train_pp (76473, 1)\n",
            "X_test_pp (32775, 1)\n"
          ]
        }
      ]
    },
    {
      "cell_type": "markdown",
      "metadata": {
        "id": "yYHPYadYb3dh"
      },
      "source": [
        "##<h2>1.5 Appling NB on different kind of featurization as mentioned in the instructions</h2>\n",
        "\n",
        "<br>Apply NB on different kind of featurization as mentioned in the instructions\n",
        "<br> For Every model that you work on make sure you do the step 2 and step 3 of instrucations"
      ]
    },
    {
      "cell_type": "markdown",
      "metadata": {
        "id": "DNwqilFxb3di"
      },
      "source": [
        "## Set 1"
      ]
    },
    {
      "cell_type": "code",
      "source": [
        "#Data\n",
        "X_train = hstack((X_train_preprocessed_essay_bow,X_train_cat,X_train_price_norm,X_train_pp)).tocsr()\n",
        "X_test = hstack((X_test_preprocessed_essay_bow,X_test_cat,X_test_price_norm,X_test_pp)).tocsr()\n",
        "\n",
        "print('Train',X_train.shape,'y:',y_train.shape)\n",
        "print('Test',X_test.shape,'y:',y_test.shape)"
      ],
      "metadata": {
        "colab": {
          "base_uri": "https://localhost:8080/"
        },
        "id": "e0WxFZuDPY5y",
        "outputId": "f197f3b3-6ef8-453e-b981-a16c77c384ef"
      },
      "execution_count": 13,
      "outputs": [
        {
          "output_type": "stream",
          "name": "stdout",
          "text": [
            "Train (76473, 5101) y: (76473,)\n",
            "Test (32775, 5101) y: (32775,)\n"
          ]
        }
      ]
    },
    {
      "cell_type": "code",
      "source": [
        "#Training model\n",
        "model = MultinomialNB(class_prior = [0.5,0.5])\n",
        "alpha_values = [0.00001,0.0005, 0.0001,0.005,0.001,0.05,0.01,0.1,0.5,1,5,10,50,100]\n",
        "param = {'alpha':alpha_values}\n",
        "\n",
        "#Iinstantiate grid\n",
        "grid = GridSearchCV(model,param, scoring='roc_auc',cv= 5,return_train_score= True)\n",
        "grid.fit(X_train,y_train)"
      ],
      "metadata": {
        "colab": {
          "base_uri": "https://localhost:8080/"
        },
        "id": "Wj0HymY3TCn4",
        "outputId": "227345c0-cc19-4297-b559-2fb76c6b9ac3"
      },
      "execution_count": 14,
      "outputs": [
        {
          "output_type": "execute_result",
          "data": {
            "text/plain": [
              "GridSearchCV(cv=5, estimator=MultinomialNB(class_prior=[0.5, 0.5]),\n",
              "             param_grid={'alpha': [1e-05, 0.0005, 0.0001, 0.005, 0.001, 0.05,\n",
              "                                   0.01, 0.1, 0.5, 1, 5, 10, 50, 100]},\n",
              "             return_train_score=True, scoring='roc_auc')"
            ]
          },
          "metadata": {},
          "execution_count": 14
        }
      ]
    },
    {
      "cell_type": "code",
      "source": [
        "train_auc = grid.cv_results_['mean_train_score']\n",
        "train_auc_std = grid.cv_results_['std_train_score']\n",
        "\n",
        "cv_auc = grid.cv_results_['mean_test_score']\n",
        "cv_auc_std = grid.cv_results_['std_test_score']"
      ],
      "metadata": {
        "id": "DuHTcgqEY-kr"
      },
      "execution_count": 15,
      "outputs": []
    },
    {
      "cell_type": "code",
      "source": [
        "alpha_values = [0.00001,0.0005, 0.0001,0.005,0.001,0.05,0.01,0.1,0.5,1,5,10,50,100]\n",
        "alpha  = [math.log10(i) for i in alpha_values]\n",
        "#print(alpha)"
      ],
      "metadata": {
        "id": "OzDV21fbZvoq"
      },
      "execution_count": 16,
      "outputs": []
    },
    {
      "cell_type": "code",
      "source": [
        "# Perform Hyperparameter Tuning.\n",
        "# Plot the training and the CV AUC scores, for different values of 'alpha', using a 2D line plot3\n",
        "\n",
        "plt.plot(alpha,train_auc,label = 'Train_auc')\n",
        "plt.plot(alpha,cv_auc,label = 'CV_auc')\n",
        "\n",
        "plt.scatter(alpha,train_auc,label='Train AUC Points')\n",
        "plt.scatter(alpha,cv_auc,label='CV AUC Points')\n",
        "\n",
        "plt.xlabel('Hyperparameter Values')\n",
        "plt.ylabel(\"Area under ROC curve\")\n",
        "plt.title(\"Hyperparameter VS Auc\")\n",
        "plt.legend()\n",
        "plt.grid()"
      ],
      "metadata": {
        "colab": {
          "base_uri": "https://localhost:8080/",
          "height": 295
        },
        "id": "T2juz8V8afLi",
        "outputId": "51d46b9b-199b-47e5-a4ff-8db3ceaeb685"
      },
      "execution_count": 17,
      "outputs": [
        {
          "output_type": "display_data",
          "data": {
            "text/plain": [
              "<Figure size 432x288 with 1 Axes>"
            ],
            "image/png": "[encoded data removed]"
          },
          "metadata": {
            "needs_background": "light"
          }
        }
      ]
    },
    {
      "cell_type": "code",
      "source": [
        "#From graph we have maximum AUC and leats gap at approx alpha = 0.5\n",
        "print('The best alphh after trainin:',grid.best_params_)\n",
        "\n",
        "#Getting the auc score at highest alpha\n",
        "print('AUC score of the best alpha:',grid.best_score_)"
      ],
      "metadata": {
        "colab": {
          "base_uri": "https://localhost:8080/"
        },
        "id": "HuB5elgvTCUq",
        "outputId": "c8d76102-2084-4d61-85c7-0d8762fec009"
      },
      "execution_count": 18,
      "outputs": [
        {
          "output_type": "stream",
          "name": "stdout",
          "text": [
            "The best alphh after trainin: {'alpha': 1e-05}\n",
            "AUC score of the best alpha: 0.6906557619488548\n"
          ]
        }
      ]
    },
    {
      "cell_type": "markdown",
      "source": [
        "###Testing performance on Test and plotting ROC for train and test"
      ],
      "metadata": {
        "id": "PXe93jPxeFnY"
      }
    },
    {
      "cell_type": "code",
      "source": [
        "model = MultinomialNB(alpha = grid.best_params_['alpha'],class_prior = [0.5,0.5])\n",
        "model.fit(X_train,y_train)"
      ],
      "metadata": {
        "colab": {
          "base_uri": "https://localhost:8080/"
        },
        "id": "p26zNnlsR1vz",
        "outputId": "96837f89-5412-49e7-c973-c0e9e2692ac4"
      },
      "execution_count": 19,
      "outputs": [
        {
          "output_type": "execute_result",
          "data": {
            "text/plain": [
              "MultinomialNB(alpha=1e-05, class_prior=[0.5, 0.5])"
            ]
          },
          "metadata": {},
          "execution_count": 19
        }
      ]
    },
    {
      "cell_type": "code",
      "source": [
        "# Obtain the optimal value for 'alpha' and using the obtained optimal 'alpha' value, fit a multinomial naive bayes model, on the train data,\n",
        "# Note: If you have split the datase into 3 parts (ie., train, cv and test sets) in the beginning, then the training datafor this final model would be (train set + cv set)\n",
        "# Make class label and probability predictions on the train and test data.\n",
        "#Choosing the best parameters from grid search to train the model\n",
        " \n",
        "\n",
        "model = MultinomialNB(alpha = grid.best_params_['alpha'],class_prior = [0.5,0.5])\n",
        "model.fit(X_train,y_train)\n",
        "\n",
        "# Plot the ROC-AUC curves using the probability predictions made on train and test data.\n",
        "y_train_prob = model.predict_proba(X_train)[:,1]\n",
        "y_test_prob = model.predict_proba(X_test)[:,1]\n",
        "\n",
        "train_fpr,train_tpr,train_thresholds = roc_curve(y_train,y_train_prob)\n",
        "\n",
        "test_fpr,test_tpr,test_thresholds = roc_curve(y_test,y_test_prob)\n",
        "\n",
        "plt.plot(train_fpr,train_tpr,label = 'Train AUC')\n",
        "plt.plot(test_fpr,test_tpr,label = 'Test Auc')\n",
        "plt.title('ROC Curve')\n",
        "plt.xlabel('FPR Scores')\n",
        "plt.ylabel('TPR Scores')\n",
        "plt.legend()\n",
        "plt.grid()\n",
        "\n",
        "print('Train AUC ',auc(train_fpr,train_tpr))\n",
        "print('Test AUC ',auc(test_fpr,test_tpr))\n",
        "grid.best_params_['alpha']\n"
      ],
      "metadata": {
        "id": "5ZiqC3xAeETW",
        "colab": {
          "base_uri": "https://localhost:8080/",
          "height": 347
        },
        "outputId": "647ad28d-6b19-4641-c3d0-0753ff835791"
      },
      "execution_count": 20,
      "outputs": [
        {
          "output_type": "stream",
          "name": "stdout",
          "text": [
            "Train AUC  0.7125686358152559\n",
            "Test AUC  0.6834340080930832\n"
          ]
        },
        {
          "output_type": "execute_result",
          "data": {
            "text/plain": [
              "1e-05"
            ]
          },
          "metadata": {},
          "execution_count": 20
        },
        {
          "output_type": "display_data",
          "data": {
            "text/plain": [
              "<Figure size 432x288 with 1 Axes>"
            ],
            "image/png": "[encoded data removed]"
          },
          "metadata": {
            "needs_background": "light"
          }
        }
      ]
    },
    {
      "cell_type": "code",
      "source": [
        "# Pick the best threshold among the probability estimates, such that it has to yield maximum value for TPR*(1-FPR)\n",
        "# Plot the confusion matrices(each for train and test data) afer encoding the predicted class labels, on the basis of the best threshod probability estimate.\n",
        "# we are writing our own function for predict, with defined thresould\n",
        "# we will pick a threshold that will give the least fpr\n",
        "\n",
        "def find_best_threshold(threshould, fpr, tpr):\n",
        "    t = threshould[np.argmax(tpr*(1-fpr))]\n",
        "    # (tpr*(1-fpr)) will be maximum if your fpr is very low and tpr is very high\n",
        "    print(\"the maximum value of tpr*(1-fpr)\", max(tpr*(1-fpr)), \"for threshold\", np.round(t,3))\n",
        "    return t\n",
        "\n",
        "\n",
        "# Predicting output with threshold from least fpr\n",
        "def predict_with_best_t(proba, threshould):\n",
        "    predictions = []\n",
        "    for i in proba:\n",
        "        if i>=threshould:\n",
        "            predictions.append(1)\n",
        "        else:\n",
        "            predictions.append(0)\n",
        "    return predictions\n"
      ],
      "metadata": {
        "id": "Xs1Cg4mFfCus"
      },
      "execution_count": 21,
      "outputs": []
    },
    {
      "cell_type": "code",
      "source": [
        "best_t = find_best_threshold(train_thresholds, train_fpr, train_tpr)\n",
        "\n",
        "print(\"Train confusion matrix\")\n",
        "print(confusion_matrix(y_train, predict_with_best_t(y_train_prob, best_t)))\n",
        "print(\"Test confusion matrix\")\n",
        "print(confusion_matrix(y_test, predict_with_best_t(y_test_prob, best_t)))"
      ],
      "metadata": {
        "colab": {
          "base_uri": "https://localhost:8080/"
        },
        "id": "6NyNaWcuc-I_",
        "outputId": "0f270a6f-26c5-4035-d0e2-31700036bffe"
      },
      "execution_count": 22,
      "outputs": [
        {
          "output_type": "stream",
          "name": "stdout",
          "text": [
            "the maximum value of tpr*(1-fpr) 0.43984773984713327 for threshold 0.492\n",
            "Train confusion matrix\n",
            "[[ 7838  3741]\n",
            " [22727 42167]]\n",
            "Test confusion matrix\n",
            "[[ 3180  1783]\n",
            " [ 9958 17854]]\n"
          ]
        }
      ]
    },
    {
      "cell_type": "markdown",
      "metadata": {
        "id": "EuDn9eYUvOjS"
      },
      "source": [
        "## Set 2"
      ]
    },
    {
      "cell_type": "code",
      "source": [
        "#Data \n",
        "\n",
        "X_train = hstack((X_train_preprocessed_essay_tfidf,X_train_cat,X_train_price_norm,X_train_pp)).tocsr()\n",
        "X_test = hstack((X_test_preprocessed_essay_tfidf,X_test_cat,X_test_price_norm,X_test_pp)).tocsr()\n",
        "\n",
        "print('X_train shape:', X_train.shape)\n",
        "print('X_test shape:', X_test.shape)"
      ],
      "metadata": {
        "colab": {
          "base_uri": "https://localhost:8080/"
        },
        "id": "7qDGdkUuU6E2",
        "outputId": "33f51450-4d8c-440d-8ab1-4adfd0620d81"
      },
      "execution_count": 23,
      "outputs": [
        {
          "output_type": "stream",
          "name": "stdout",
          "text": [
            "X_train shape: (76473, 5101)\n",
            "X_test shape: (32775, 5101)\n"
          ]
        }
      ]
    },
    {
      "cell_type": "code",
      "execution_count": 24,
      "metadata": {
        "id": "leRP7xBDvOjS",
        "colab": {
          "base_uri": "https://localhost:8080/"
        },
        "outputId": "89486e22-2463-4a9b-f2be-2d14c470f8b4"
      },
      "outputs": [
        {
          "output_type": "execute_result",
          "data": {
            "text/plain": [
              "GridSearchCV(cv=5, estimator=MultinomialNB(class_prior=[0.5, 0.5]),\n",
              "             param_grid={'alpha': [1e-05, 0.0005, 0.0001, 0.005, 0.001, 0.05,\n",
              "                                   0.01, 0.1, 0.5, 1, 5, 10, 50, 100]},\n",
              "             return_train_score=True, scoring='roc_auc')"
            ]
          },
          "metadata": {},
          "execution_count": 24
        }
      ],
      "source": [
        "# Perform Hyperparameter Tuning.\n",
        "# Plot the training and the CV AUC scores, for different values of 'alpha', using a 2D line plot\n",
        "\n",
        "\n",
        "alpha_values = [0.00001,0.0005, 0.0001,0.005,0.001,0.05,0.01,0.1,0.5,1,5,10,50,100]\n",
        "\n",
        "model = MultinomialNB(class_prior =[0.5,0.5])\n",
        "param = {'alpha':alpha_values}\n",
        "grid = GridSearchCV(model,param, scoring = 'roc_auc',cv = 5,return_train_score = True)\n",
        "grid.fit(X_train,y_train)\n"
      ]
    },
    {
      "cell_type": "code",
      "execution_count": 25,
      "metadata": {
        "id": "hc4d-lx5vOjT",
        "colab": {
          "base_uri": "https://localhost:8080/",
          "height": 312
        },
        "outputId": "821144fe-d24c-4a25-9e35-60742e3d20b4"
      },
      "outputs": [
        {
          "output_type": "execute_result",
          "data": {
            "text/plain": [
              "<matplotlib.legend.Legend at 0x7f7a011b8990>"
            ]
          },
          "metadata": {},
          "execution_count": 25
        },
        {
          "output_type": "display_data",
          "data": {
            "text/plain": [
              "<Figure size 432x288 with 1 Axes>"
            ],
            "image/png": "[encoded data removed]"
          },
          "metadata": {
            "needs_background": "light"
          }
        }
      ],
      "source": [
        "# Obtain the optimal value for 'alpha' and using the obtained optimal 'alpha' value, fit a multinomial naive bayes model, on the train data,\n",
        "# Note: If you have split the datase into 3 parts (ie., train, cv and test sets) in the beginning, then the training datafor this final model would be (train set + cv set)\n",
        "# Make class label and probability predictions on the train and test data.\n",
        "\n",
        "train_score = grid.cv_results_['mean_train_score']\n",
        "val_score = grid.cv_results_['mean_test_score']\n",
        "\n",
        "alpha = [math.log10(i) for i in alpha_values]\n",
        "\n",
        "plt.plot(alpha,train_score,label = 'Train AUC')\n",
        "plt.plot(alpha,val_score,label='CV AUC')\n",
        "plt.scatter(alpha,train_score,label  = 'Train AUC Points')\n",
        "plt.scatter(alpha,val_score,label = 'CV AUC points')\n",
        "plt.xlabel('Hyperparameter Values')\n",
        "plt.ylabel(\"Area under ROC curve\")\n",
        "plt.title(\"Hyperparameter VS Auc\")\n",
        "plt.grid()\n",
        "plt.legend()\n"
      ]
    },
    {
      "cell_type": "code",
      "source": [
        "#From graph we have maximum AUC and leats gap at approx alpha = 0.5\n",
        "print('The best alphh after trainin:',grid.best_params_)\n",
        "\n",
        "#Getting the auc score at highest alpha\n",
        "print('AUC score of the best alpha:',grid.best_score_)"
      ],
      "metadata": {
        "colab": {
          "base_uri": "https://localhost:8080/"
        },
        "id": "2SlIc_7wef4U",
        "outputId": "e128e9ed-7e7f-4dfb-cfc3-71ca6d7877a6"
      },
      "execution_count": 26,
      "outputs": [
        {
          "output_type": "stream",
          "name": "stdout",
          "text": [
            "The best alphh after trainin: {'alpha': 1e-05}\n",
            "AUC score of the best alpha: 0.6694005297402958\n"
          ]
        }
      ]
    },
    {
      "cell_type": "code",
      "execution_count": 27,
      "metadata": {
        "id": "6eZgFzVYvOjU",
        "colab": {
          "base_uri": "https://localhost:8080/",
          "height": 347
        },
        "outputId": "24d8aa4c-4360-4ae8-e499-78cd7e3139c5"
      },
      "outputs": [
        {
          "output_type": "stream",
          "name": "stdout",
          "text": [
            "Train AUC  0.6921893423796579\n",
            "Test AUC  0.6654928261164836\n",
            "1e-05\n"
          ]
        },
        {
          "output_type": "display_data",
          "data": {
            "text/plain": [
              "<Figure size 432x288 with 1 Axes>"
            ],
            "image/png": "[encoded data removed]"
          },
          "metadata": {
            "needs_background": "light"
          }
        }
      ],
      "source": [
        "# Plot the ROC-AUC curves using the probability predictions made on train and test data.\n",
        "\n",
        "model = MultinomialNB(alpha = grid.best_params_['alpha'],class_prior = [0.5,0.5])\n",
        "model.fit(X_train,y_train)\n",
        "\n",
        "y_train_prob = model.predict_proba(X_train)[:,1]\n",
        "y_test_prob = model.predict_proba(X_test)[:,1]\n",
        "\n",
        "train_fpr,train_tpr, train_thres = roc_curve(y_train,y_train_prob)\n",
        "test_fpr,test_tpr, test_thres = roc_curve(y_test,y_test_prob)\n",
        "\n",
        "plt.plot(train_fpr,train_tpr,label = 'Train AUC')\n",
        "plt.plot(test_fpr,test_tpr,label = 'Test Auc')\n",
        "plt.title('ROC Curve')\n",
        "plt.xlabel('FPR Scores')\n",
        "plt.ylabel('TPR Scores')\n",
        "plt.legend()\n",
        "plt.grid()\n",
        "\n",
        "\n",
        "print('Train AUC ',auc(train_fpr,train_tpr))\n",
        "print('Test AUC ',auc(test_fpr,test_tpr))\n",
        "print(grid.best_params_['alpha'])\n"
      ]
    },
    {
      "cell_type": "code",
      "execution_count": 28,
      "metadata": {
        "id": "Qn0uZ9HBvOjU",
        "colab": {
          "base_uri": "https://localhost:8080/"
        },
        "outputId": "0f9ac18a-2973-4325-d5e8-5f7b47454dc0"
      },
      "outputs": [
        {
          "output_type": "stream",
          "name": "stdout",
          "text": [
            "the maximum value of tpr*(1-fpr) 0.4123565655693785 for threshold 0.534\n",
            "Train confusion matrix\n",
            "[[ 8293  3286]\n",
            " [27944 36950]]\n",
            "Test confusion matrix\n",
            "[[ 3409  1554]\n",
            " [12152 15660]]\n"
          ]
        }
      ],
      "source": [
        "# Pick the best threshold among the probability estimates, such that it has to yield maximum value for TPR*(1-FPR)\n",
        "# Plot the confusion matrices(each for train and test data) afer encoding the predicted class labels, on the basis of the best threshod probability estimate.\n",
        "\n",
        "best_t = find_best_threshold(train_thresholds, train_fpr, train_tpr)\n",
        "\n",
        "print(\"Train confusion matrix\")\n",
        "print(confusion_matrix(y_train, predict_with_best_t(y_train_prob, best_t)))\n",
        "\n",
        "print(\"Test confusion matrix\")\n",
        "print(confusion_matrix(y_test, predict_with_best_t(y_test_prob, best_t)))\n"
      ]
    },
    {
      "cell_type": "markdown",
      "source": [
        "##20 features"
      ],
      "metadata": {
        "id": "RJjkctCGj1n2"
      }
    },
    {
      "cell_type": "code",
      "execution_count": 29,
      "metadata": {
        "id": "OXSnDEl-vOjV",
        "colab": {
          "base_uri": "https://localhost:8080/"
        },
        "outputId": "e0ce6a9c-4124-4c82-b539-d23d70717e8b"
      },
      "outputs": [
        {
          "output_type": "stream",
          "name": "stdout",
          "text": [
            "5101\n"
          ]
        }
      ],
      "source": [
        "#https://stackoverflow.com/questions/50526898/how-to-get-feature-importance-in-naive-bayes\n",
        "#https://stackoverflow.com/questions/16486252/is-it-possible-to-use-argsort-in-descending-order\n",
        "#https://numpy.org/doc/stable/reference/generated/numpy.take.html\n",
        "# Either from set 1 (or) set 2, print the names of the top 20 features associated with the positive and negative classes each. (You have to print the names of the features, but not the indexes)\n",
        "\n",
        "#Creating list for adding all features the using argsort to find them\n",
        "\n",
        "features = []\n",
        "\n",
        "for i in vect1.get_feature_names():\n",
        "  features.append(i)\n",
        "\n",
        "for i in vect_ss.get_feature_names():\n",
        "  features.append(i)\n",
        "\n",
        "for i in vect_tp.get_feature_names():\n",
        "  features.append(i)\n",
        "\n",
        "for i in vect_pgc.get_feature_names():\n",
        "  features.append(i)\n",
        "\n",
        "for i in vect_cc.get_feature_names():\n",
        "  features.append(i)\n",
        "\n",
        "for i in vect_cs.get_feature_names():\n",
        "  features.append(i)\n",
        "\n",
        "\n",
        "features.append('price')\n",
        "features.append('teacher_number_of_previously_posted_projects')\n",
        "\n",
        "\n",
        "print(len(features))\n",
        "\n"
      ]
    },
    {
      "cell_type": "code",
      "source": [
        "#Argsor is in ascending using indexing to take 20 feature from back\n",
        "#Using feature_log_prob to filter max feature\n",
        "\n",
        "top_20_class_0 = np.take(features,model.feature_log_prob_[0,:].argsort()[-20:] )\n",
        "print('top_20_class_0:', top_20_class_0)\n",
        "print('\\n')\n",
        "top_20_class_1 = np.take(features,model.feature_log_prob_[1,:].argsort()[-20:] )\n",
        "print('top_20_class_1:', top_20_class_1)\n"
      ],
      "metadata": {
        "colab": {
          "base_uri": "https://localhost:8080/"
        },
        "id": "Uibd7Z2QnIE7",
        "outputId": "fa9a9ec8-402b-4c58-a696-eb2ab9bd596f"
      },
      "execution_count": 42,
      "outputs": [
        {
          "output_type": "stream",
          "name": "stdout",
          "text": [
            "top_20_class_0: ['grades_9_12' 'appliedsciences' 'students' 'appliedlearning' 'ca'\n",
            " 'health_sports' 'specialneeds' 'specialneeds' 'grades_6_8'\n",
            " 'literature_writing' 'literacy' 'mathematics' 'grades_3_5' 'ms'\n",
            " 'math_science' 'grades_prek_2' 'literacy_language' 'mrs'\n",
            " 'teacher_number_of_previously_posted_projects' 'price']\n",
            "\n",
            "\n",
            "top_20_class_1: ['appliedsciences' 'grades_9_12' 'appliedlearning' 'specialneeds'\n",
            " 'specialneeds' 'students' 'health_sports' 'ca' 'grades_6_8'\n",
            " 'literature_writing' 'mathematics' 'literacy' 'grades_3_5' 'ms'\n",
            " 'math_science' 'grades_prek_2' 'literacy_language' 'mrs'\n",
            " 'teacher_number_of_previously_posted_projects' 'price']\n"
          ]
        }
      ]
    },
    {
      "cell_type": "markdown",
      "metadata": {
        "id": "lS9hIHdib3dp"
      },
      "source": [
        "##<h1>3. Summary</h1>\n",
        "\n",
        "<br> as mentioned in the step 5 of instructions"
      ]
    },
    {
      "cell_type": "code",
      "execution_count": 35,
      "metadata": {
        "id": "lb79NpaRvOjW",
        "colab": {
          "base_uri": "https://localhost:8080/"
        },
        "outputId": "4a4b7867-2d45-4805-a366-a13d044bec17"
      },
      "outputs": [
        {
          "output_type": "stream",
          "name": "stdout",
          "text": [
            "+-------+------------+-------------+-----------+----------+\n",
            "| Model | Vectorizer | Hyperameter | Train AUC | Test AUC |\n",
            "+-------+------------+-------------+-----------+----------+\n",
            "|   NB  |    BOW     |    1e-05    |   71.2 %  |  68.3 %  |\n",
            "|   NB  |   TFIDF    |    1e-05    |   67.1 %  |   67 %   |\n",
            "+-------+------------+-------------+-----------+----------+\n"
          ]
        }
      ],
      "source": [
        "#Summarize your assignment work here in a few points, and also compare the final models (from set 1 and set 2), in terms of optimal hyperparameter value 'alpha', training AUC and test AUC scores.\n",
        "# You can either use a pretty table or any other tabular structure.\n",
        "# Reference Link for Pretty table:  https://pypi.org/project/prettytable/\n",
        "\n",
        "myTable = PrettyTable([\"Model\", \"Vectorizer\", \"Hyperameter\", \"Train AUC\",\"Test AUC\"])\n",
        "myTable.add_row([\"NB\", \"BOW\", \"1e-05\",\"71.2 %\", \"68.3 %\"])\n",
        "myTable.add_row([\"NB\", \"TFIDF\", \"1e-05\", \"67.1 %\",\"67 %\"])\n",
        "\n",
        "print(myTable)\n",
        "\n"
      ]
    },
    {
      "cell_type": "markdown",
      "source": [
        "Conclusion:\n",
        "\n",
        "- Final Models:\n",
        " - Set 1: Train Auc: 71.2 %   Test Auc: 68.3%     alpha: 1e-05\n",
        " - Set 2: Train Auc: 67.1 %   Test Auc: 67%     alpha:1e-05\n",
        "\n",
        "- From the table we can conclude that the tfidf is better fit than BOW vectorization as the train and test auc are almost similar.\n",
        "\n",
        "- Also the test auc of BOW is slightly greater than TFIDF Vectorizer but the gap is more between the train and test auc\n",
        "\n",
        "- Both  the models get the values of alpha as 1e-05 \n",
        "\n",
        "- The accuracy remains almost same when we consider all the feature and when we consider 80k points.\n",
        "\n",
        "\n",
        "- The top features for both the classes are aslo almost similar.\n",
        "\n",
        "- To further increase accuracy we need to work on feature engineering."
      ],
      "metadata": {
        "id": "IsGpk2KpSfDN"
      }
    }
  ],
  "metadata": {
    "colab": {
      "collapsed_sections": [],
      "name": "NB_Assignment_instructions.ipynb",
      "provenance": []
    },
    "kernelspec": {
      "display_name": "Python 3",
      "language": "python",
      "name": "python3"
    },
    "language_info": {
      "codemirror_mode": {
        "name": "ipython",
        "version": 3
      },
      "file_extension": ".py",
      "mimetype": "text/x-python",
      "name": "python",
      "nbconvert_exporter": "python",
      "pygments_lexer": "ipython3",
      "version": "3.6.3"
    }
  },
  "nbformat": 4,
  "nbformat_minor": 0
}